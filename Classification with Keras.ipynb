{
 "cells": [
  {
   "cell_type": "code",
   "execution_count": 1,
   "metadata": {},
   "outputs": [
    {
     "name": "stderr",
     "output_type": "stream",
     "text": [
      "Using TensorFlow backend.\n"
     ]
    }
   ],
   "source": [
    "import keras\n",
    "\n",
    "from keras.models import Sequential\n",
    "from keras.layers import Dense\n",
    "from keras.utils import to_categorical"
   ]
  },
  {
   "cell_type": "markdown",
   "metadata": {},
   "source": [
    "Since we are dealing with images we need matplotlib to display the image"
   ]
  },
  {
   "cell_type": "markdown",
   "metadata": {},
   "source": [
    "# 1. Data Cleaning and Preparation"
   ]
  },
  {
   "cell_type": "code",
   "execution_count": 2,
   "metadata": {},
   "outputs": [],
   "source": [
    "import matplotlib.pyplot as plt\n",
    "from keras.datasets import mnist"
   ]
  },
  {
   "cell_type": "code",
   "execution_count": 3,
   "metadata": {},
   "outputs": [],
   "source": [
    "(x_train,y_train),(x_test,y_test) = mnist.load_data()\n",
    "sss  = x_train"
   ]
  },
  {
   "cell_type": "code",
   "execution_count": 4,
   "metadata": {},
   "outputs": [
    {
     "data": {
      "text/plain": [
       "(60000, 28, 28)"
      ]
     },
     "execution_count": 4,
     "metadata": {},
     "output_type": "execute_result"
    }
   ],
   "source": [
    "x_train.shape"
   ]
  },
  {
   "cell_type": "code",
   "execution_count": 5,
   "metadata": {},
   "outputs": [
    {
     "data": {
      "text/plain": [
       "<matplotlib.image.AxesImage at 0x22389c484a8>"
      ]
     },
     "execution_count": 5,
     "metadata": {},
     "output_type": "execute_result"
    },
    {
     "data": {
      "image/png": "[encoded data removed]",
      "text/plain": [
       "<Figure size 432x288 with 1 Axes>"
      ]
     },
     "metadata": {
      "needs_background": "light"
     },
     "output_type": "display_data"
    }
   ],
   "source": [
    "plt.imshow(x_train[0])"
   ]
  },
  {
   "cell_type": "markdown",
   "metadata": {},
   "source": [
    "With conventional neural networks we cannot feed in the image as input as is. So we need to flatten the images into one-dimensional vectors each of size 1x(28X28) = 1 x 784"
   ]
  },
  {
   "cell_type": "code",
   "execution_count": 6,
   "metadata": {},
   "outputs": [],
   "source": [
    "num_pixels = x_train.shape[1]*x_train.shape[2] #Find the size of one dimentional vector"
   ]
  },
  {
   "cell_type": "code",
   "execution_count": 7,
   "metadata": {},
   "outputs": [],
   "source": [
    "x_train = x_train.reshape(x_train.shape[0],num_pixels).astype('float32') #Flatten training images\n",
    "x_test = x_test.reshape(x_test.shape[0],num_pixels).astype('float32') #Flatten test images"
   ]
  },
  {
   "cell_type": "markdown",
   "metadata": {},
   "source": [
    "Normalize the image vector"
   ]
  },
  {
   "cell_type": "code",
   "execution_count": 8,
   "metadata": {},
   "outputs": [],
   "source": [
    "x_train = x_train/255\n",
    "x_test = x_test/255"
   ]
  },
  {
   "cell_type": "code",
   "execution_count": 9,
   "metadata": {},
   "outputs": [
    {
     "name": "stdout",
     "output_type": "stream",
     "text": [
      "10\n"
     ]
    }
   ],
   "source": [
    "#One hot encode the outputs\n",
    "y_train = to_categorical(y_train)\n",
    "y_test = to_categorical(y_test)\n",
    "num_classes = y_test.shape[1]\n",
    "print(num_classes)"
   ]
  },
  {
   "cell_type": "markdown",
   "metadata": {},
   "source": [
    "# 2. Build a Neural Network"
   ]
  },
  {
   "cell_type": "code",
   "execution_count": 10,
   "metadata": {},
   "outputs": [],
   "source": [
    "def classification_model():\n",
    "    model = Sequential()\n",
    "    model.add(Dense(num_pixels, activation='relu', input_shape = (num_pixels,)))\n",
    "    model.add(Dense(100, activation='relu'))\n",
    "    model.add(Dense(num_classes,activation='softmax'))\n",
    "    #Compile the model\n",
    "    model.compile(optimizer='adam',loss='categorical_crossentropy', metrics=['accuracy'])\n",
    "    return model"
   ]
  },
  {
   "cell_type": "markdown",
   "metadata": {},
   "source": [
    "# 3. Train and Test the Network"
   ]
  },
  {
   "cell_type": "code",
   "execution_count": 11,
   "metadata": {},
   "outputs": [
    {
     "name": "stdout",
     "output_type": "stream",
     "text": [
      "Train on 60000 samples, validate on 10000 samples\n",
      "Epoch 1/10\n",
      " - 49s - loss: 0.1847 - accuracy: 0.9439 - val_loss: 0.0986 - val_accuracy: 0.9686\n",
      "Epoch 2/10\n",
      " - 47s - loss: 0.0781 - accuracy: 0.9753 - val_loss: 0.0911 - val_accuracy: 0.9710\n",
      "Epoch 3/10\n",
      " - 51s - loss: 0.0537 - accuracy: 0.9827 - val_loss: 0.0817 - val_accuracy: 0.9758\n",
      "Epoch 4/10\n",
      " - 48s - loss: 0.0402 - accuracy: 0.9871 - val_loss: 0.0769 - val_accuracy: 0.9797\n",
      "Epoch 5/10\n",
      " - 49s - loss: 0.0311 - accuracy: 0.9899 - val_loss: 0.0628 - val_accuracy: 0.9826\n",
      "Epoch 6/10\n",
      " - 43s - loss: 0.0248 - accuracy: 0.9916 - val_loss: 0.0797 - val_accuracy: 0.9799\n",
      "Epoch 7/10\n",
      " - 42s - loss: 0.0218 - accuracy: 0.9931 - val_loss: 0.0965 - val_accuracy: 0.9753\n",
      "Epoch 8/10\n",
      " - 55s - loss: 0.0213 - accuracy: 0.9931 - val_loss: 0.0796 - val_accuracy: 0.9798\n",
      "Epoch 9/10\n",
      " - 50s - loss: 0.0163 - accuracy: 0.9949 - val_loss: 0.0959 - val_accuracy: 0.9792\n",
      "Epoch 10/10\n",
      " - 55s - loss: 0.0159 - accuracy: 0.9949 - val_loss: 0.0910 - val_accuracy: 0.9795\n"
     ]
    }
   ],
   "source": [
    "#build the model\n",
    "model = classification_model()\n",
    "\n",
    "#fit the model\n",
    "model.fit(x_train,y_train, validation_data=(x_test,y_test), epochs = 10, verbose = 2)\n",
    "\n",
    "#evalate the model\n",
    "\n",
    "scores = model.evaluate(x_test, y_test, verbose = 0)"
   ]
  },
  {
   "cell_type": "markdown",
   "metadata": {},
   "source": [
    "# 4. Check the Accuracy of the Model"
   ]
  },
  {
   "cell_type": "code",
   "execution_count": 12,
   "metadata": {},
   "outputs": [
    {
     "name": "stdout",
     "output_type": "stream",
     "text": [
      "Accuracy: 0.9794999957084656% \n",
      "Error: 0.020500004291534424\n"
     ]
    }
   ],
   "source": [
    "print('Accuracy: {}% \\nError: {}'.format(scores[1],1-scores[1]))"
   ]
  },
  {
   "cell_type": "markdown",
   "metadata": {},
   "source": [
    "# 5. Save the Model"
   ]
  },
  {
   "cell_type": "code",
   "execution_count": 13,
   "metadata": {},
   "outputs": [],
   "source": [
    "model.save('classification_model.h5')"
   ]
  },
  {
   "cell_type": "markdown",
   "metadata": {},
   "source": [
    "# 6. Load the Model"
   ]
  },
  {
   "cell_type": "code",
   "execution_count": 15,
   "metadata": {},
   "outputs": [],
   "source": [
    "from keras.models import load_model"
   ]
  },
  {
   "cell_type": "code",
   "execution_count": 16,
   "metadata": {},
   "outputs": [],
   "source": [
    "pretrained_model = load_model('classification_model.h5')"
   ]
  },
  {
   "cell_type": "code",
   "execution_count": 17,
   "metadata": {},
   "outputs": [
    {
     "data": {
      "text/plain": [
       "array([[2.7091343e-12, 4.9527410e-11, 2.2596680e-11, 4.9208604e-10,\n",
       "        4.6180513e-13, 3.0492136e-14, 1.8725756e-16, 9.9999976e-01,\n",
       "        1.4118831e-12, 2.0475137e-07]], dtype=float32)"
      ]
     },
     "execution_count": 17,
     "metadata": {},
     "output_type": "execute_result"
    }
   ],
   "source": [
    "pretrained_model.predict(x_test[:1])"
   ]
  },
  {
   "cell_type": "code",
   "execution_count": 34,
   "metadata": {},
   "outputs": [],
   "source": [
    "import numpy as np\n",
    "out = pretrained_model.predict(x_test)"
   ]
  },
  {
   "cell_type": "code",
   "execution_count": 35,
   "metadata": {},
   "outputs": [
    {
     "name": "stdout",
     "output_type": "stream",
     "text": [
      "[[2.70913435e-12 4.95274100e-11 2.25967214e-11 ... 9.99999762e-01\n",
      "  1.41188309e-12 2.04751558e-07]\n",
      " [1.29219352e-20 1.21574544e-07 9.99999881e-01 ... 2.12349224e-17\n",
      "  1.98170697e-25 6.08769601e-24]\n",
      " [8.75682249e-17 1.00000000e+00 6.07939699e-10 ... 1.13188712e-11\n",
      "  2.78378362e-12 2.31350617e-15]\n",
      " ...\n",
      " [1.68580210e-19 3.35915352e-15 3.39621769e-18 ... 3.13220457e-11\n",
      "  4.26597334e-11 3.40444228e-10]\n",
      " [7.92766910e-21 5.62840986e-19 2.47762088e-23 ... 3.61491554e-15\n",
      "  8.37809802e-13 1.68425941e-19]\n",
      " [7.24202158e-15 2.14546166e-16 6.33336593e-17 ... 9.84970464e-22\n",
      "  1.04605696e-13 2.25196224e-15]]\n"
     ]
    }
   ],
   "source": [
    "print(out)"
   ]
  },
  {
   "cell_type": "code",
   "execution_count": null,
   "metadata": {},
   "outputs": [],
   "source": []
  },
  {
   "cell_type": "code",
   "execution_count": null,
   "metadata": {},
   "outputs": [],
   "source": []
  },
  {
   "cell_type": "code",
   "execution_count": null,
   "metadata": {},
   "outputs": [],
   "source": []
  }
 ],
 "metadata": {
  "kernelspec": {
   "display_name": "Python 3",
   "language": "python",
   "name": "python3"
  },
  "language_info": {
   "codemirror_mode": {
    "name": "ipython",
    "version": 3
   },
   "file_extension": ".py",
   "mimetype": "text/x-python",
   "name": "python",
   "nbconvert_exporter": "python",
   "pygments_lexer": "ipython3",
   "version": "3.6.6"
  }
 },
 "nbformat": 4,
 "nbformat_minor": 4
}
