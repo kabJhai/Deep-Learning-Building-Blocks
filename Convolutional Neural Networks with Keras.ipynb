{
 "cells": [
  {
   "cell_type": "markdown",
   "metadata": {},
   "source": [
    "# Convolutional Neural Networks with Keras"
   ]
  },
  {
   "cell_type": "markdown",
   "metadata": {},
   "source": [
    "## Import Keras and Packages"
   ]
  },
  {
   "cell_type": "code",
   "execution_count": 1,
   "metadata": {},
   "outputs": [],
   "source": [
    "import keras\n",
    "from keras.models import Sequential\n",
    "from keras.layers import Dense\n",
    "from keras.utils import to_categorical\n",
    "\n",
    "#For convolutional neural networks\n",
    "from keras.layers.convolutional import Conv2D #To add CNN\n",
    "from keras.layers.convolutional import MaxPooling2D #To add pooling\n",
    "from keras.layers import Flatten #To flatten data for fully connected layers"
   ]
  },
  {
   "cell_type": "markdown",
   "metadata": {},
   "source": [
    "## Convolutional Layer with One Set of Convolutional and Pooling Layers"
   ]
  },
  {
   "cell_type": "code",
   "execution_count": 2,
   "metadata": {},
   "outputs": [],
   "source": [
    "from keras.datasets import mnist\n",
    "(x_train, y_train), (x_test, y_test) = mnist.load_data()\n",
    "\n",
    "x_train = x_train.reshape(x_train.shape[0],28,28,1).astype('float32')\n",
    "x_test = x_test.reshape(x_test.shape[0],28,28,1).astype('float32')"
   ]
  },
  {
   "cell_type": "markdown",
   "metadata": {},
   "source": [
    "### Normalize the data"
   ]
  },
  {
   "cell_type": "code",
   "execution_count": 3,
   "metadata": {},
   "outputs": [],
   "source": [
    "x_train = x_train/255\n",
    "x_test = x_test/255"
   ]
  },
  {
   "cell_type": "markdown",
   "metadata": {},
   "source": [
    "## Convert the target variable into binary categories"
   ]
  },
  {
   "cell_type": "code",
   "execution_count": 4,
   "metadata": {},
   "outputs": [],
   "source": [
    "y_train = to_categorical(y_train)\n",
    "y_test = to_categorical(y_test)"
   ]
  },
  {
   "cell_type": "code",
   "execution_count": 8,
   "metadata": {},
   "outputs": [],
   "source": [
    "num_classes = y_test.shape[1]"
   ]
  },
  {
   "cell_type": "code",
   "execution_count": 12,
   "metadata": {},
   "outputs": [],
   "source": [
    "def convolutional_model():\n",
    "    model = Sequential()\n",
    "    model.add(Conv2D(16,(5,5),strides=(1,1),activation='relu',input_shape=(28,28,1)))\n",
    "    model.add(MaxPooling2D(pool_size=(2,2),strides=(2,2)))\n",
    "    \n",
    "    model.add(Flatten())\n",
    "    model.add(Dense(100,activation='relu'))\n",
    "    model.add(Dense(num_classes,activation='softmax'))\n",
    "    \n",
    "    #Compile Model\n",
    "    model.compile(optimizer='adam',loss='categorical_crossentropy',metrics=['accuracy'])\n",
    "    return model"
   ]
  },
  {
   "cell_type": "markdown",
   "metadata": {},
   "source": [
    "## Build the Model"
   ]
  },
  {
   "cell_type": "code",
   "execution_count": 14,
   "metadata": {},
   "outputs": [
    {
     "name": "stdout",
     "output_type": "stream",
     "text": [
      "Train on 60000 samples, validate on 10000 samples\n",
      "Epoch 1/10\n",
      " - 22s - loss: 0.3122 - accuracy: 0.9130 - val_loss: 0.1105 - val_accuracy: 0.9663\n",
      "Epoch 2/10\n",
      " - 24s - loss: 0.0924 - accuracy: 0.9735 - val_loss: 0.0618 - val_accuracy: 0.9795\n",
      "Epoch 3/10\n",
      " - 22s - loss: 0.0636 - accuracy: 0.9811 - val_loss: 0.0523 - val_accuracy: 0.9825\n",
      "Epoch 4/10\n",
      " - 24s - loss: 0.0495 - accuracy: 0.9853 - val_loss: 0.0463 - val_accuracy: 0.9838\n",
      "Epoch 5/10\n",
      " - 23s - loss: 0.0394 - accuracy: 0.9880 - val_loss: 0.0407 - val_accuracy: 0.9856\n",
      "Epoch 6/10\n",
      " - 25s - loss: 0.0327 - accuracy: 0.9902 - val_loss: 0.0441 - val_accuracy: 0.9866\n",
      "Epoch 7/10\n",
      " - 24s - loss: 0.0269 - accuracy: 0.9917 - val_loss: 0.0441 - val_accuracy: 0.9859\n",
      "Epoch 8/10\n",
      " - 25s - loss: 0.0235 - accuracy: 0.9929 - val_loss: 0.0366 - val_accuracy: 0.9871\n",
      "Epoch 9/10\n",
      " - 25s - loss: 0.0189 - accuracy: 0.9943 - val_loss: 0.0360 - val_accuracy: 0.9868\n",
      "Epoch 10/10\n",
      " - 24s - loss: 0.0172 - accuracy: 0.9944 - val_loss: 0.0350 - val_accuracy: 0.9887\n",
      "Accuracy: 98.86999726295471\n",
      " Error: 1.130002737045288\n"
     ]
    }
   ],
   "source": [
    "model = convolutional_model()\n",
    "\n",
    "#Train the model\n",
    "model.fit(x_train,y_train,validation_data=(x_test,y_test),epochs=10,batch_size=200,verbose=2)\n",
    "\n",
    "#scores\n",
    "scores = model.evaluate(x_test,y_test,verbose=0)\n",
    "\n",
    "print(\"Accuracy: {}\\n Error: {}\".format(scores[1]*100,100-scores[1]*100))"
   ]
  },
  {
   "cell_type": "code",
   "execution_count": null,
   "metadata": {},
   "outputs": [],
   "source": []
  }
 ],
 "metadata": {
  "kernelspec": {
   "display_name": "Python 3",
   "language": "python",
   "name": "python3"
  },
  "language_info": {
   "codemirror_mode": {
    "name": "ipython",
    "version": 3
   },
   "file_extension": ".py",
   "mimetype": "text/x-python",
   "name": "python",
   "nbconvert_exporter": "python",
   "pygments_lexer": "ipython3",
   "version": "3.6.6"
  }
 },
 "nbformat": 4,
 "nbformat_minor": 4
}
