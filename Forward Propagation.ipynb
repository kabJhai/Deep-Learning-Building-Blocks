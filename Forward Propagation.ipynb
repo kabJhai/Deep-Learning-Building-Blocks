{
 "cells": [
  {
   "cell_type": "markdown",
   "metadata": {},
   "source": [
    "# Artificial Neural Networks\n",
    "## Forward Propagation\n",
    "\n",
    "### Table of Contents\n",
    "\n",
    "1. Recap\n",
    "2. Initialize a Network\n",
    "3. Compute a Weighted Sum at Each Node\n",
    "4. Compute Node Activation\n",
    "5. Forward Propagation\n",
    "\n",
    "# 1. Recap\n",
    "\n",
    "Lets start by randomly initializing the weights and biases randomly"
   ]
  },
  {
   "cell_type": "code",
   "execution_count": null,
   "metadata": {},
   "outputs": [],
   "source": [
    "import numpy as np"
   ]
  }
 ],
 "metadata": {
  "kernelspec": {
   "display_name": "Python 3",
   "language": "python",
   "name": "python3"
  },
  "language_info": {
   "codemirror_mode": {
    "name": "ipython",
    "version": 3
   },
   "file_extension": ".py",
   "mimetype": "text/x-python",
   "name": "python",
   "nbconvert_exporter": "python",
   "pygments_lexer": "ipython3",
   "version": "3.6.6"
  }
 },
 "nbformat": 4,
 "nbformat_minor": 4
}
