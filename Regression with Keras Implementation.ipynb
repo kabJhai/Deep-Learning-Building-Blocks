{
 "cells": [
  {
   "cell_type": "code",
   "execution_count": 1,
   "metadata": {},
   "outputs": [
    {
     "name": "stderr",
     "output_type": "stream",
     "text": [
      "Using TensorFlow backend.\n"
     ]
    }
   ],
   "source": [
    "import pandas as pd\n",
    "import numpy as np\n",
    "import keras"
   ]
  },
  {
   "cell_type": "markdown",
   "metadata": {},
   "source": [
    "# 1. Data Preparation and Cleaning"
   ]
  },
  {
   "cell_type": "code",
   "execution_count": 2,
   "metadata": {},
   "outputs": [
    {
     "data": {
      "text/html": [
       "<div>\n",
       "<style scoped>\n",
       "    .dataframe tbody tr th:only-of-type {\n",
       "        vertical-align: middle;\n",
       "    }\n",
       "\n",
       "    .dataframe tbody tr th {\n",
       "        vertical-align: top;\n",
       "    }\n",
       "\n",
       "    .dataframe thead th {\n",
       "        text-align: right;\n",
       "    }\n",
       "</style>\n",
       "<table border=\"1\" class=\"dataframe\">\n",
       "  <thead>\n",
       "    <tr style=\"text-align: right;\">\n",
       "      <th></th>\n",
       "      <th>Cement</th>\n",
       "      <th>Blast Furnace Slag</th>\n",
       "      <th>Fly Ash</th>\n",
       "      <th>Water</th>\n",
       "      <th>Superplasticizer</th>\n",
       "      <th>Coarse Aggregate</th>\n",
       "      <th>Fine Aggregate</th>\n",
       "      <th>Age</th>\n",
       "      <th>Strength</th>\n",
       "    </tr>\n",
       "  </thead>\n",
       "  <tbody>\n",
       "    <tr>\n",
       "      <th>0</th>\n",
       "      <td>540.0</td>\n",
       "      <td>0.0</td>\n",
       "      <td>0.0</td>\n",
       "      <td>162.0</td>\n",
       "      <td>2.5</td>\n",
       "      <td>1040.0</td>\n",
       "      <td>676.0</td>\n",
       "      <td>28</td>\n",
       "      <td>79.99</td>\n",
       "    </tr>\n",
       "    <tr>\n",
       "      <th>1</th>\n",
       "      <td>540.0</td>\n",
       "      <td>0.0</td>\n",
       "      <td>0.0</td>\n",
       "      <td>162.0</td>\n",
       "      <td>2.5</td>\n",
       "      <td>1055.0</td>\n",
       "      <td>676.0</td>\n",
       "      <td>28</td>\n",
       "      <td>61.89</td>\n",
       "    </tr>\n",
       "    <tr>\n",
       "      <th>2</th>\n",
       "      <td>332.5</td>\n",
       "      <td>142.5</td>\n",
       "      <td>0.0</td>\n",
       "      <td>228.0</td>\n",
       "      <td>0.0</td>\n",
       "      <td>932.0</td>\n",
       "      <td>594.0</td>\n",
       "      <td>270</td>\n",
       "      <td>40.27</td>\n",
       "    </tr>\n",
       "    <tr>\n",
       "      <th>3</th>\n",
       "      <td>332.5</td>\n",
       "      <td>142.5</td>\n",
       "      <td>0.0</td>\n",
       "      <td>228.0</td>\n",
       "      <td>0.0</td>\n",
       "      <td>932.0</td>\n",
       "      <td>594.0</td>\n",
       "      <td>365</td>\n",
       "      <td>41.05</td>\n",
       "    </tr>\n",
       "    <tr>\n",
       "      <th>4</th>\n",
       "      <td>198.6</td>\n",
       "      <td>132.4</td>\n",
       "      <td>0.0</td>\n",
       "      <td>192.0</td>\n",
       "      <td>0.0</td>\n",
       "      <td>978.4</td>\n",
       "      <td>825.5</td>\n",
       "      <td>360</td>\n",
       "      <td>44.30</td>\n",
       "    </tr>\n",
       "  </tbody>\n",
       "</table>\n",
       "</div>"
      ],
      "text/plain": [
       "   Cement  Blast Furnace Slag  Fly Ash  Water  Superplasticizer  \\\n",
       "0   540.0                 0.0      0.0  162.0               2.5   \n",
       "1   540.0                 0.0      0.0  162.0               2.5   \n",
       "2   332.5               142.5      0.0  228.0               0.0   \n",
       "3   332.5               142.5      0.0  228.0               0.0   \n",
       "4   198.6               132.4      0.0  192.0               0.0   \n",
       "\n",
       "   Coarse Aggregate  Fine Aggregate  Age  Strength  \n",
       "0            1040.0           676.0   28     79.99  \n",
       "1            1055.0           676.0   28     61.89  \n",
       "2             932.0           594.0  270     40.27  \n",
       "3             932.0           594.0  365     41.05  \n",
       "4             978.4           825.5  360     44.30  "
      ]
     },
     "execution_count": 2,
     "metadata": {},
     "output_type": "execute_result"
    }
   ],
   "source": [
    "concrete_data = pd.read_csv('https://s3-api.us-geo.objectstorage.softlayer.net/cf-courses-data/CognitiveClass/DL0101EN/labs/data/concrete_data.csv')\n",
    "concrete_data.head()"
   ]
  },
  {
   "cell_type": "markdown",
   "metadata": {},
   "source": [
    "Check the ammount of data and the number of columns\n",
    "<em>(row,columns)</em>"
   ]
  },
  {
   "cell_type": "code",
   "execution_count": 3,
   "metadata": {},
   "outputs": [
    {
     "data": {
      "text/plain": [
       "(1030, 9)"
      ]
     },
     "execution_count": 3,
     "metadata": {},
     "output_type": "execute_result"
    }
   ],
   "source": [
    "concrete_data.shape "
   ]
  },
  {
   "cell_type": "markdown",
   "metadata": {},
   "source": [
    "Check if there are any missing values"
   ]
  },
  {
   "cell_type": "code",
   "execution_count": 4,
   "metadata": {},
   "outputs": [
    {
     "data": {
      "text/html": [
       "<div>\n",
       "<style scoped>\n",
       "    .dataframe tbody tr th:only-of-type {\n",
       "        vertical-align: middle;\n",
       "    }\n",
       "\n",
       "    .dataframe tbody tr th {\n",
       "        vertical-align: top;\n",
       "    }\n",
       "\n",
       "    .dataframe thead th {\n",
       "        text-align: right;\n",
       "    }\n",
       "</style>\n",
       "<table border=\"1\" class=\"dataframe\">\n",
       "  <thead>\n",
       "    <tr style=\"text-align: right;\">\n",
       "      <th></th>\n",
       "      <th>Cement</th>\n",
       "      <th>Blast Furnace Slag</th>\n",
       "      <th>Fly Ash</th>\n",
       "      <th>Water</th>\n",
       "      <th>Superplasticizer</th>\n",
       "      <th>Coarse Aggregate</th>\n",
       "      <th>Fine Aggregate</th>\n",
       "      <th>Age</th>\n",
       "      <th>Strength</th>\n",
       "    </tr>\n",
       "  </thead>\n",
       "  <tbody>\n",
       "    <tr>\n",
       "      <th>count</th>\n",
       "      <td>1030.000000</td>\n",
       "      <td>1030.000000</td>\n",
       "      <td>1030.000000</td>\n",
       "      <td>1030.000000</td>\n",
       "      <td>1030.000000</td>\n",
       "      <td>1030.000000</td>\n",
       "      <td>1030.000000</td>\n",
       "      <td>1030.000000</td>\n",
       "      <td>1030.000000</td>\n",
       "    </tr>\n",
       "    <tr>\n",
       "      <th>mean</th>\n",
       "      <td>281.167864</td>\n",
       "      <td>73.895825</td>\n",
       "      <td>54.188350</td>\n",
       "      <td>181.567282</td>\n",
       "      <td>6.204660</td>\n",
       "      <td>972.918932</td>\n",
       "      <td>773.580485</td>\n",
       "      <td>45.662136</td>\n",
       "      <td>35.817961</td>\n",
       "    </tr>\n",
       "    <tr>\n",
       "      <th>std</th>\n",
       "      <td>104.506364</td>\n",
       "      <td>86.279342</td>\n",
       "      <td>63.997004</td>\n",
       "      <td>21.354219</td>\n",
       "      <td>5.973841</td>\n",
       "      <td>77.753954</td>\n",
       "      <td>80.175980</td>\n",
       "      <td>63.169912</td>\n",
       "      <td>16.705742</td>\n",
       "    </tr>\n",
       "    <tr>\n",
       "      <th>min</th>\n",
       "      <td>102.000000</td>\n",
       "      <td>0.000000</td>\n",
       "      <td>0.000000</td>\n",
       "      <td>121.800000</td>\n",
       "      <td>0.000000</td>\n",
       "      <td>801.000000</td>\n",
       "      <td>594.000000</td>\n",
       "      <td>1.000000</td>\n",
       "      <td>2.330000</td>\n",
       "    </tr>\n",
       "    <tr>\n",
       "      <th>25%</th>\n",
       "      <td>192.375000</td>\n",
       "      <td>0.000000</td>\n",
       "      <td>0.000000</td>\n",
       "      <td>164.900000</td>\n",
       "      <td>0.000000</td>\n",
       "      <td>932.000000</td>\n",
       "      <td>730.950000</td>\n",
       "      <td>7.000000</td>\n",
       "      <td>23.710000</td>\n",
       "    </tr>\n",
       "    <tr>\n",
       "      <th>50%</th>\n",
       "      <td>272.900000</td>\n",
       "      <td>22.000000</td>\n",
       "      <td>0.000000</td>\n",
       "      <td>185.000000</td>\n",
       "      <td>6.400000</td>\n",
       "      <td>968.000000</td>\n",
       "      <td>779.500000</td>\n",
       "      <td>28.000000</td>\n",
       "      <td>34.445000</td>\n",
       "    </tr>\n",
       "    <tr>\n",
       "      <th>75%</th>\n",
       "      <td>350.000000</td>\n",
       "      <td>142.950000</td>\n",
       "      <td>118.300000</td>\n",
       "      <td>192.000000</td>\n",
       "      <td>10.200000</td>\n",
       "      <td>1029.400000</td>\n",
       "      <td>824.000000</td>\n",
       "      <td>56.000000</td>\n",
       "      <td>46.135000</td>\n",
       "    </tr>\n",
       "    <tr>\n",
       "      <th>max</th>\n",
       "      <td>540.000000</td>\n",
       "      <td>359.400000</td>\n",
       "      <td>200.100000</td>\n",
       "      <td>247.000000</td>\n",
       "      <td>32.200000</td>\n",
       "      <td>1145.000000</td>\n",
       "      <td>992.600000</td>\n",
       "      <td>365.000000</td>\n",
       "      <td>82.600000</td>\n",
       "    </tr>\n",
       "  </tbody>\n",
       "</table>\n",
       "</div>"
      ],
      "text/plain": [
       "            Cement  Blast Furnace Slag      Fly Ash        Water  \\\n",
       "count  1030.000000         1030.000000  1030.000000  1030.000000   \n",
       "mean    281.167864           73.895825    54.188350   181.567282   \n",
       "std     104.506364           86.279342    63.997004    21.354219   \n",
       "min     102.000000            0.000000     0.000000   121.800000   \n",
       "25%     192.375000            0.000000     0.000000   164.900000   \n",
       "50%     272.900000           22.000000     0.000000   185.000000   \n",
       "75%     350.000000          142.950000   118.300000   192.000000   \n",
       "max     540.000000          359.400000   200.100000   247.000000   \n",
       "\n",
       "       Superplasticizer  Coarse Aggregate  Fine Aggregate          Age  \\\n",
       "count       1030.000000       1030.000000     1030.000000  1030.000000   \n",
       "mean           6.204660        972.918932      773.580485    45.662136   \n",
       "std            5.973841         77.753954       80.175980    63.169912   \n",
       "min            0.000000        801.000000      594.000000     1.000000   \n",
       "25%            0.000000        932.000000      730.950000     7.000000   \n",
       "50%            6.400000        968.000000      779.500000    28.000000   \n",
       "75%           10.200000       1029.400000      824.000000    56.000000   \n",
       "max           32.200000       1145.000000      992.600000   365.000000   \n",
       "\n",
       "          Strength  \n",
       "count  1030.000000  \n",
       "mean     35.817961  \n",
       "std      16.705742  \n",
       "min       2.330000  \n",
       "25%      23.710000  \n",
       "50%      34.445000  \n",
       "75%      46.135000  \n",
       "max      82.600000  "
      ]
     },
     "execution_count": 4,
     "metadata": {},
     "output_type": "execute_result"
    }
   ],
   "source": [
    "concrete_data.describe()"
   ]
  },
  {
   "cell_type": "markdown",
   "metadata": {},
   "source": [
    "Check if there are any null rows"
   ]
  },
  {
   "cell_type": "code",
   "execution_count": 5,
   "metadata": {},
   "outputs": [
    {
     "data": {
      "text/plain": [
       "Cement                0\n",
       "Blast Furnace Slag    0\n",
       "Fly Ash               0\n",
       "Water                 0\n",
       "Superplasticizer      0\n",
       "Coarse Aggregate      0\n",
       "Fine Aggregate        0\n",
       "Age                   0\n",
       "Strength              0\n",
       "dtype: int64"
      ]
     },
     "execution_count": 5,
     "metadata": {},
     "output_type": "execute_result"
    }
   ],
   "source": [
    "concrete_data.isnull().sum()"
   ]
  },
  {
   "cell_type": "markdown",
   "metadata": {},
   "source": [
    "## Split the data into predictors and Target\n",
    "For the predictors you'll have to be selective on which columns to use and which ones to leave for target\n"
   ]
  },
  {
   "cell_type": "code",
   "execution_count": 37,
   "metadata": {},
   "outputs": [],
   "source": [
    "concrete_data_columns = concrete_data.columns\n",
    "predictors = concrete_data[concrete_data_columns[concrete_data_columns != 'Strength']] #All the columns except strength\n",
    "predictors_columns = predictors.columns\n",
    "predictors = predictors[predictors_columns[predictors_columns != 'Age']] #All the columns except age\n",
    "target = concrete_data['Strength'] "
   ]
  },
  {
   "cell_type": "code",
   "execution_count": 38,
   "metadata": {},
   "outputs": [
    {
     "data": {
      "text/html": [
       "<div>\n",
       "<style scoped>\n",
       "    .dataframe tbody tr th:only-of-type {\n",
       "        vertical-align: middle;\n",
       "    }\n",
       "\n",
       "    .dataframe tbody tr th {\n",
       "        vertical-align: top;\n",
       "    }\n",
       "\n",
       "    .dataframe thead th {\n",
       "        text-align: right;\n",
       "    }\n",
       "</style>\n",
       "<table border=\"1\" class=\"dataframe\">\n",
       "  <thead>\n",
       "    <tr style=\"text-align: right;\">\n",
       "      <th></th>\n",
       "      <th>Cement</th>\n",
       "      <th>Blast Furnace Slag</th>\n",
       "      <th>Fly Ash</th>\n",
       "      <th>Water</th>\n",
       "      <th>Superplasticizer</th>\n",
       "      <th>Coarse Aggregate</th>\n",
       "      <th>Fine Aggregate</th>\n",
       "    </tr>\n",
       "  </thead>\n",
       "  <tbody>\n",
       "    <tr>\n",
       "      <th>0</th>\n",
       "      <td>540.0</td>\n",
       "      <td>0.0</td>\n",
       "      <td>0.0</td>\n",
       "      <td>162.0</td>\n",
       "      <td>2.5</td>\n",
       "      <td>1040.0</td>\n",
       "      <td>676.0</td>\n",
       "    </tr>\n",
       "    <tr>\n",
       "      <th>1</th>\n",
       "      <td>540.0</td>\n",
       "      <td>0.0</td>\n",
       "      <td>0.0</td>\n",
       "      <td>162.0</td>\n",
       "      <td>2.5</td>\n",
       "      <td>1055.0</td>\n",
       "      <td>676.0</td>\n",
       "    </tr>\n",
       "    <tr>\n",
       "      <th>2</th>\n",
       "      <td>332.5</td>\n",
       "      <td>142.5</td>\n",
       "      <td>0.0</td>\n",
       "      <td>228.0</td>\n",
       "      <td>0.0</td>\n",
       "      <td>932.0</td>\n",
       "      <td>594.0</td>\n",
       "    </tr>\n",
       "    <tr>\n",
       "      <th>3</th>\n",
       "      <td>332.5</td>\n",
       "      <td>142.5</td>\n",
       "      <td>0.0</td>\n",
       "      <td>228.0</td>\n",
       "      <td>0.0</td>\n",
       "      <td>932.0</td>\n",
       "      <td>594.0</td>\n",
       "    </tr>\n",
       "    <tr>\n",
       "      <th>4</th>\n",
       "      <td>198.6</td>\n",
       "      <td>132.4</td>\n",
       "      <td>0.0</td>\n",
       "      <td>192.0</td>\n",
       "      <td>0.0</td>\n",
       "      <td>978.4</td>\n",
       "      <td>825.5</td>\n",
       "    </tr>\n",
       "  </tbody>\n",
       "</table>\n",
       "</div>"
      ],
      "text/plain": [
       "   Cement  Blast Furnace Slag  Fly Ash  Water  Superplasticizer  \\\n",
       "0   540.0                 0.0      0.0  162.0               2.5   \n",
       "1   540.0                 0.0      0.0  162.0               2.5   \n",
       "2   332.5               142.5      0.0  228.0               0.0   \n",
       "3   332.5               142.5      0.0  228.0               0.0   \n",
       "4   198.6               132.4      0.0  192.0               0.0   \n",
       "\n",
       "   Coarse Aggregate  Fine Aggregate  \n",
       "0            1040.0           676.0  \n",
       "1            1055.0           676.0  \n",
       "2             932.0           594.0  \n",
       "3             932.0           594.0  \n",
       "4             978.4           825.5  "
      ]
     },
     "execution_count": 38,
     "metadata": {},
     "output_type": "execute_result"
    }
   ],
   "source": [
    "predictors.head()"
   ]
  },
  {
   "cell_type": "code",
   "execution_count": 8,
   "metadata": {},
   "outputs": [
    {
     "data": {
      "text/plain": [
       "0    79.99\n",
       "1    61.89\n",
       "2    40.27\n",
       "3    41.05\n",
       "4    44.30\n",
       "Name: Strength, dtype: float64"
      ]
     },
     "execution_count": 8,
     "metadata": {},
     "output_type": "execute_result"
    }
   ],
   "source": [
    "target.head()"
   ]
  },
  {
   "cell_type": "code",
   "execution_count": 39,
   "metadata": {},
   "outputs": [
    {
     "data": {
      "text/html": [
       "<div>\n",
       "<style scoped>\n",
       "    .dataframe tbody tr th:only-of-type {\n",
       "        vertical-align: middle;\n",
       "    }\n",
       "\n",
       "    .dataframe tbody tr th {\n",
       "        vertical-align: top;\n",
       "    }\n",
       "\n",
       "    .dataframe thead th {\n",
       "        text-align: right;\n",
       "    }\n",
       "</style>\n",
       "<table border=\"1\" class=\"dataframe\">\n",
       "  <thead>\n",
       "    <tr style=\"text-align: right;\">\n",
       "      <th></th>\n",
       "      <th>Cement</th>\n",
       "      <th>Blast Furnace Slag</th>\n",
       "      <th>Fly Ash</th>\n",
       "      <th>Water</th>\n",
       "      <th>Superplasticizer</th>\n",
       "      <th>Coarse Aggregate</th>\n",
       "      <th>Fine Aggregate</th>\n",
       "    </tr>\n",
       "  </thead>\n",
       "  <tbody>\n",
       "    <tr>\n",
       "      <th>0</th>\n",
       "      <td>2.476712</td>\n",
       "      <td>-0.856472</td>\n",
       "      <td>-0.846733</td>\n",
       "      <td>-0.916319</td>\n",
       "      <td>-0.620147</td>\n",
       "      <td>0.862735</td>\n",
       "      <td>-1.217079</td>\n",
       "    </tr>\n",
       "    <tr>\n",
       "      <th>1</th>\n",
       "      <td>2.476712</td>\n",
       "      <td>-0.856472</td>\n",
       "      <td>-0.846733</td>\n",
       "      <td>-0.916319</td>\n",
       "      <td>-0.620147</td>\n",
       "      <td>1.055651</td>\n",
       "      <td>-1.217079</td>\n",
       "    </tr>\n",
       "    <tr>\n",
       "      <th>2</th>\n",
       "      <td>0.491187</td>\n",
       "      <td>0.795140</td>\n",
       "      <td>-0.846733</td>\n",
       "      <td>2.174405</td>\n",
       "      <td>-1.038638</td>\n",
       "      <td>-0.526262</td>\n",
       "      <td>-2.239829</td>\n",
       "    </tr>\n",
       "    <tr>\n",
       "      <th>3</th>\n",
       "      <td>0.491187</td>\n",
       "      <td>0.795140</td>\n",
       "      <td>-0.846733</td>\n",
       "      <td>2.174405</td>\n",
       "      <td>-1.038638</td>\n",
       "      <td>-0.526262</td>\n",
       "      <td>-2.239829</td>\n",
       "    </tr>\n",
       "    <tr>\n",
       "      <th>4</th>\n",
       "      <td>-0.790075</td>\n",
       "      <td>0.678079</td>\n",
       "      <td>-0.846733</td>\n",
       "      <td>0.488555</td>\n",
       "      <td>-1.038638</td>\n",
       "      <td>0.070492</td>\n",
       "      <td>0.647569</td>\n",
       "    </tr>\n",
       "  </tbody>\n",
       "</table>\n",
       "</div>"
      ],
      "text/plain": [
       "     Cement  Blast Furnace Slag   Fly Ash     Water  Superplasticizer  \\\n",
       "0  2.476712           -0.856472 -0.846733 -0.916319         -0.620147   \n",
       "1  2.476712           -0.856472 -0.846733 -0.916319         -0.620147   \n",
       "2  0.491187            0.795140 -0.846733  2.174405         -1.038638   \n",
       "3  0.491187            0.795140 -0.846733  2.174405         -1.038638   \n",
       "4 -0.790075            0.678079 -0.846733  0.488555         -1.038638   \n",
       "\n",
       "   Coarse Aggregate  Fine Aggregate  \n",
       "0          0.862735       -1.217079  \n",
       "1          1.055651       -1.217079  \n",
       "2         -0.526262       -2.239829  \n",
       "3         -0.526262       -2.239829  \n",
       "4          0.070492        0.647569  "
      ]
     },
     "execution_count": 39,
     "metadata": {},
     "output_type": "execute_result"
    }
   ],
   "source": [
    "predictors_norm = (predictors - predictors.mean())/predictors.std()\n",
    "predictors_norm.head()"
   ]
  },
  {
   "cell_type": "markdown",
   "metadata": {},
   "source": [
    "The number of columns to prepare for the first hidden layer"
   ]
  },
  {
   "cell_type": "code",
   "execution_count": 43,
   "metadata": {},
   "outputs": [],
   "source": [
    "n_cols = predictors_norm.shape[1]"
   ]
  },
  {
   "cell_type": "markdown",
   "metadata": {},
   "source": [
    "# 2. Train the Model"
   ]
  },
  {
   "cell_type": "code",
   "execution_count": 44,
   "metadata": {},
   "outputs": [],
   "source": [
    "from keras.models import Sequential\n",
    "from keras.layers import Dense"
   ]
  },
  {
   "cell_type": "markdown",
   "metadata": {},
   "source": [
    "### Prepare a function used to prepare a model\n",
    "\n",
    "The function below creates a model with two hidden layers having 50 neurons each."
   ]
  },
  {
   "cell_type": "code",
   "execution_count": 45,
   "metadata": {},
   "outputs": [],
   "source": [
    "def regression_model():\n",
    "    #Create the model\n",
    "    model = Sequential()\n",
    "    model.add(Dense(50, activation = 'relu', input_shape = (n_cols,)))\n",
    "    model.add(Dense(50, activation = 'relu'))\n",
    "    model.add(Dense(1))\n",
    "    #Compile the model\n",
    "    model.compile(optimizer = 'adam',loss='mean_squared_error')\n",
    "    return model"
   ]
  },
  {
   "cell_type": "code",
   "execution_count": 46,
   "metadata": {},
   "outputs": [],
   "source": [
    "model = regression_model()"
   ]
  },
  {
   "cell_type": "markdown",
   "metadata": {},
   "source": [
    "# 3. Train the Model"
   ]
  },
  {
   "cell_type": "code",
   "execution_count": 54,
   "metadata": {},
   "outputs": [
    {
     "name": "stdout",
     "output_type": "stream",
     "text": [
      "Train on 721 samples, validate on 309 samples\n",
      "Epoch 1/100\n",
      " - 0s - loss: 151.6591 - val_loss: 155.6167\n",
      "Epoch 2/100\n",
      " - 0s - loss: 151.5303 - val_loss: 159.0440\n",
      "Epoch 3/100\n",
      " - 0s - loss: 151.1539 - val_loss: 159.3351\n",
      "Epoch 4/100\n",
      " - 0s - loss: 150.9955 - val_loss: 154.2132\n",
      "Epoch 5/100\n",
      " - 0s - loss: 150.9907 - val_loss: 158.3036\n",
      "Epoch 6/100\n",
      " - 0s - loss: 150.6952 - val_loss: 157.4052\n",
      "Epoch 7/100\n",
      " - 0s - loss: 150.5741 - val_loss: 152.1793\n",
      "Epoch 8/100\n",
      " - 0s - loss: 150.3525 - val_loss: 155.9857\n",
      "Epoch 9/100\n",
      " - 0s - loss: 150.3787 - val_loss: 155.0797\n",
      "Epoch 10/100\n",
      " - 0s - loss: 150.4002 - val_loss: 154.5817\n",
      "Epoch 11/100\n",
      " - 0s - loss: 150.2174 - val_loss: 158.0890\n",
      "Epoch 12/100\n",
      " - 0s - loss: 150.0240 - val_loss: 160.6074\n",
      "Epoch 13/100\n",
      " - 0s - loss: 149.2604 - val_loss: 157.9198\n",
      "Epoch 14/100\n",
      " - 0s - loss: 149.7758 - val_loss: 155.6406\n",
      "Epoch 15/100\n",
      " - 0s - loss: 149.3576 - val_loss: 160.9311\n",
      "Epoch 16/100\n",
      " - 0s - loss: 150.0328 - val_loss: 156.3158\n",
      "Epoch 17/100\n",
      " - 0s - loss: 149.5289 - val_loss: 158.0595\n",
      "Epoch 18/100\n",
      " - 0s - loss: 148.3499 - val_loss: 163.9048\n",
      "Epoch 19/100\n",
      " - 0s - loss: 148.7808 - val_loss: 160.9025\n",
      "Epoch 20/100\n",
      " - 0s - loss: 148.7074 - val_loss: 162.3161\n",
      "Epoch 21/100\n",
      " - 0s - loss: 149.4377 - val_loss: 160.0298\n",
      "Epoch 22/100\n",
      " - 0s - loss: 148.5515 - val_loss: 162.7202\n",
      "Epoch 23/100\n",
      " - 0s - loss: 148.2597 - val_loss: 160.3778\n",
      "Epoch 24/100\n",
      " - 0s - loss: 148.4539 - val_loss: 158.8300\n",
      "Epoch 25/100\n",
      " - 0s - loss: 147.7430 - val_loss: 165.8634\n",
      "Epoch 26/100\n",
      " - 0s - loss: 148.3154 - val_loss: 167.5020\n",
      "Epoch 27/100\n",
      " - 0s - loss: 147.3824 - val_loss: 161.9996\n",
      "Epoch 28/100\n",
      " - 0s - loss: 147.3054 - val_loss: 165.2050\n",
      "Epoch 29/100\n",
      " - 0s - loss: 148.0065 - val_loss: 164.3601\n",
      "Epoch 30/100\n",
      " - 0s - loss: 147.2509 - val_loss: 161.7011\n",
      "Epoch 31/100\n",
      " - 0s - loss: 147.0605 - val_loss: 170.7382\n",
      "Epoch 32/100\n",
      " - 0s - loss: 146.9710 - val_loss: 165.5868\n",
      "Epoch 33/100\n",
      " - 0s - loss: 147.1446 - val_loss: 167.1946\n",
      "Epoch 34/100\n",
      " - 0s - loss: 147.9370 - val_loss: 160.2131\n",
      "Epoch 35/100\n",
      " - 0s - loss: 146.5958 - val_loss: 177.4513\n",
      "Epoch 36/100\n",
      " - 0s - loss: 146.3899 - val_loss: 165.7249\n",
      "Epoch 37/100\n",
      " - 0s - loss: 146.7740 - val_loss: 166.6439\n",
      "Epoch 38/100\n",
      " - 0s - loss: 146.4744 - val_loss: 165.4294\n",
      "Epoch 39/100\n",
      " - 0s - loss: 146.0226 - val_loss: 173.3144\n",
      "Epoch 40/100\n",
      " - 0s - loss: 147.6746 - val_loss: 166.2429\n",
      "Epoch 41/100\n",
      " - 0s - loss: 146.1897 - val_loss: 171.7679\n",
      "Epoch 42/100\n",
      " - 0s - loss: 145.7319 - val_loss: 169.4429\n",
      "Epoch 43/100\n",
      " - 0s - loss: 145.7041 - val_loss: 170.6385\n",
      "Epoch 44/100\n",
      " - 0s - loss: 145.2778 - val_loss: 175.9974\n",
      "Epoch 45/100\n",
      " - 0s - loss: 145.5218 - val_loss: 171.4717\n",
      "Epoch 46/100\n",
      " - 0s - loss: 145.5513 - val_loss: 169.0977\n",
      "Epoch 47/100\n",
      " - 0s - loss: 145.3063 - val_loss: 171.7060\n",
      "Epoch 48/100\n",
      " - 0s - loss: 146.0675 - val_loss: 168.6398\n",
      "Epoch 49/100\n",
      " - 0s - loss: 145.8734 - val_loss: 171.6374\n",
      "Epoch 50/100\n",
      " - 0s - loss: 146.1537 - val_loss: 179.3564\n",
      "Epoch 51/100\n",
      " - 0s - loss: 145.5206 - val_loss: 169.5428\n",
      "Epoch 52/100\n",
      " - 0s - loss: 145.1595 - val_loss: 174.8518\n",
      "Epoch 53/100\n",
      " - 0s - loss: 144.7207 - val_loss: 174.8866\n",
      "Epoch 54/100\n",
      " - 0s - loss: 144.3573 - val_loss: 175.0523\n",
      "Epoch 55/100\n",
      " - 0s - loss: 144.6642 - val_loss: 180.0910\n",
      "Epoch 56/100\n",
      " - 0s - loss: 145.2436 - val_loss: 185.5022\n",
      "Epoch 57/100\n",
      " - 0s - loss: 144.8802 - val_loss: 175.1816\n",
      "Epoch 58/100\n",
      " - 0s - loss: 144.2760 - val_loss: 182.9016\n",
      "Epoch 59/100\n",
      " - 0s - loss: 144.6170 - val_loss: 188.8161\n",
      "Epoch 60/100\n",
      " - 0s - loss: 144.7331 - val_loss: 183.5039\n",
      "Epoch 61/100\n",
      " - 0s - loss: 145.5496 - val_loss: 174.3161\n",
      "Epoch 62/100\n",
      " - 0s - loss: 145.0139 - val_loss: 182.7759\n",
      "Epoch 63/100\n",
      " - 0s - loss: 143.8469 - val_loss: 172.8178\n",
      "Epoch 64/100\n",
      " - 0s - loss: 143.9079 - val_loss: 180.3142\n",
      "Epoch 65/100\n",
      " - 0s - loss: 144.4276 - val_loss: 184.6082\n",
      "Epoch 66/100\n",
      " - 0s - loss: 143.7628 - val_loss: 182.3703\n",
      "Epoch 67/100\n",
      " - 0s - loss: 143.5370 - val_loss: 181.9847\n",
      "Epoch 68/100\n",
      " - 0s - loss: 143.8676 - val_loss: 184.8224\n",
      "Epoch 69/100\n",
      " - 0s - loss: 143.6963 - val_loss: 186.3843\n",
      "Epoch 70/100\n",
      " - 0s - loss: 143.6893 - val_loss: 179.8861\n",
      "Epoch 71/100\n",
      " - 0s - loss: 143.5729 - val_loss: 180.4824\n",
      "Epoch 72/100\n",
      " - 0s - loss: 142.9883 - val_loss: 185.5378\n",
      "Epoch 73/100\n",
      " - 0s - loss: 143.0046 - val_loss: 181.5750\n",
      "Epoch 74/100\n",
      " - 0s - loss: 143.2195 - val_loss: 190.4757\n",
      "Epoch 75/100\n",
      " - 0s - loss: 143.0037 - val_loss: 189.4918\n",
      "Epoch 76/100\n",
      " - 0s - loss: 143.2980 - val_loss: 180.7816\n",
      "Epoch 77/100\n",
      " - 0s - loss: 143.5133 - val_loss: 183.9011\n",
      "Epoch 78/100\n",
      " - 0s - loss: 142.7015 - val_loss: 192.0421\n",
      "Epoch 79/100\n",
      " - 0s - loss: 142.6563 - val_loss: 192.5556\n",
      "Epoch 80/100\n",
      " - 0s - loss: 142.1509 - val_loss: 181.8748\n",
      "Epoch 81/100\n",
      " - 0s - loss: 143.3440 - val_loss: 193.2735\n",
      "Epoch 82/100\n",
      " - 0s - loss: 142.1100 - val_loss: 184.6146\n",
      "Epoch 83/100\n",
      " - 0s - loss: 142.4466 - val_loss: 191.5842\n",
      "Epoch 84/100\n",
      " - 0s - loss: 142.5324 - val_loss: 181.6506\n",
      "Epoch 85/100\n",
      " - 0s - loss: 141.9867 - val_loss: 194.0392\n",
      "Epoch 86/100\n",
      " - 0s - loss: 142.5402 - val_loss: 188.3773\n",
      "Epoch 87/100\n",
      " - 0s - loss: 142.0947 - val_loss: 186.9786\n",
      "Epoch 88/100\n",
      " - 0s - loss: 141.5399 - val_loss: 184.9504\n",
      "Epoch 89/100\n",
      " - 0s - loss: 142.2479 - val_loss: 184.2705\n",
      "Epoch 90/100\n",
      " - 0s - loss: 142.2834 - val_loss: 193.3041\n",
      "Epoch 91/100\n",
      " - 0s - loss: 143.7678 - val_loss: 185.7062\n",
      "Epoch 92/100\n",
      " - 0s - loss: 142.0370 - val_loss: 194.4667\n",
      "Epoch 93/100\n",
      " - 0s - loss: 142.2333 - val_loss: 195.7055\n",
      "Epoch 94/100\n",
      " - 0s - loss: 141.9746 - val_loss: 191.9233\n",
      "Epoch 95/100\n",
      " - 0s - loss: 142.3063 - val_loss: 189.6433\n",
      "Epoch 96/100\n",
      " - 0s - loss: 141.8040 - val_loss: 191.7351\n",
      "Epoch 97/100\n",
      " - 0s - loss: 141.4349 - val_loss: 184.7519\n",
      "Epoch 98/100\n",
      " - 0s - loss: 141.2834 - val_loss: 197.5675\n",
      "Epoch 99/100\n",
      " - 0s - loss: 141.9599 - val_loss: 196.0894\n",
      "Epoch 100/100\n",
      " - 0s - loss: 141.0697 - val_loss: 200.5882\n"
     ]
    }
   ],
   "source": [
    "xx = model.fit(predictors_norm, target, validation_split = 0.3, epochs = 100, verbose = 2)"
   ]
  },
  {
   "cell_type": "code",
   "execution_count": 21,
   "metadata": {},
   "outputs": [
    {
     "ename": "TypeError",
     "evalue": "predict() missing 1 required positional argument: 'x'",
     "output_type": "error",
     "traceback": [
      "\u001b[1;31m---------------------------------------------------------------------------\u001b[0m",
      "\u001b[1;31mTypeError\u001b[0m                                 Traceback (most recent call last)",
      "\u001b[1;32m<ipython-input-21-b4bfd117e19a>\u001b[0m in \u001b[0;36m<module>\u001b[1;34m\u001b[0m\n\u001b[1;32m----> 1\u001b[1;33m \u001b[0my_pred\u001b[0m \u001b[1;33m=\u001b[0m \u001b[0mmodel\u001b[0m\u001b[1;33m.\u001b[0m\u001b[0mpredict\u001b[0m\u001b[1;33m(\u001b[0m\u001b[1;33m)\u001b[0m\u001b[1;33m\u001b[0m\u001b[0m\n\u001b[0m",
      "\u001b[1;31mTypeError\u001b[0m: predict() missing 1 required positional argument: 'x'"
     ]
    }
   ],
   "source": [
    "y_pred = model.predict()"
   ]
  },
  {
   "cell_type": "code",
   "execution_count": 49,
   "metadata": {},
   "outputs": [],
   "source": [
    "a = []\n",
    "a.append(19)\n",
    "a.append(129)"
   ]
  },
  {
   "cell_type": "code",
   "execution_count": 50,
   "metadata": {},
   "outputs": [
    {
     "data": {
      "text/plain": [
       "[19, 129]"
      ]
     },
     "execution_count": 50,
     "metadata": {},
     "output_type": "execute_result"
    }
   ],
   "source": [
    "a"
   ]
  },
  {
   "cell_type": "code",
   "execution_count": 51,
   "metadata": {},
   "outputs": [
    {
     "data": {
      "text/plain": [
       "74.0"
      ]
     },
     "execution_count": 51,
     "metadata": {},
     "output_type": "execute_result"
    }
   ],
   "source": [
    "np.mean(a)"
   ]
  },
  {
   "cell_type": "code",
   "execution_count": 52,
   "metadata": {},
   "outputs": [
    {
     "data": {
      "text/plain": [
       "55.0"
      ]
     },
     "execution_count": 52,
     "metadata": {},
     "output_type": "execute_result"
    }
   ],
   "source": [
    "np.std(a)"
   ]
  },
  {
   "cell_type": "code",
   "execution_count": 53,
   "metadata": {},
   "outputs": [],
   "source": [
    "np.std?"
   ]
  },
  {
   "cell_type": "code",
   "execution_count": null,
   "metadata": {},
   "outputs": [],
   "source": []
  }
 ],
 "metadata": {
  "kernelspec": {
   "display_name": "Python 3",
   "language": "python",
   "name": "python3"
  },
  "language_info": {
   "codemirror_mode": {
    "name": "ipython",
    "version": 3
   },
   "file_extension": ".py",
   "mimetype": "text/x-python",
   "name": "python",
   "nbconvert_exporter": "python",
   "pygments_lexer": "ipython3",
   "version": "3.6.6"
  }
 },
 "nbformat": 4,
 "nbformat_minor": 4
}
